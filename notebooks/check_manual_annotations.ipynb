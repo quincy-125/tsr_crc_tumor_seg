{
 "cells": [
  {
   "cell_type": "code",
   "execution_count": null,
   "id": "66a7a7bf",
   "metadata": {},
   "outputs": [],
   "source": [
    "from openslide import OpenSlide\n",
    "import PIL"
   ]
  },
  {
   "cell_type": "code",
   "execution_count": null,
   "id": "cac3fb0d",
   "metadata": {},
   "outputs": [],
   "source": [
    "wsi = OpenSlide('/path to wsi/')"
   ]
  },
  {
   "cell_type": "code",
   "execution_count": null,
   "id": "c79c924f",
   "metadata": {},
   "outputs": [],
   "source": [
    "import geojson"
   ]
  },
  {
   "cell_type": "code",
   "execution_count": null,
   "id": "06387edd",
   "metadata": {},
   "outputs": [],
   "source": [
    "with open('/path to wsi annotation geojson/', 'r') as f:\n",
    "    manual_annotations = geojson.load(f)"
   ]
  },
  {
   "cell_type": "code",
   "execution_count": null,
   "id": "c4249924",
   "metadata": {},
   "outputs": [],
   "source": [
    "import geopandas as gpd\n",
    "manual_annotations_df = gpd.GeoDataFrame.from_features(manual_annotations).scale(yfact=-1, origin=(0,0)).scale(xfact=1/wsi.level_downsamples[-2], yfact=1/wsi.level_downsamples[-2], origin=(0, 0))"
   ]
  },
  {
   "cell_type": "code",
   "execution_count": null,
   "id": "ffce2d01",
   "metadata": {},
   "outputs": [],
   "source": [
    "wsi.level_downsamples"
   ]
  },
  {
   "cell_type": "code",
   "execution_count": null,
   "id": "bfd6839e",
   "metadata": {
    "scrolled": true
   },
   "outputs": [],
   "source": [
    "wsi.level_dimensions"
   ]
  },
  {
   "cell_type": "code",
   "execution_count": null,
   "id": "c60705f0",
   "metadata": {
    "scrolled": false
   },
   "outputs": [],
   "source": [
    "manual_annotations_df.plot()"
   ]
  },
  {
   "cell_type": "code",
   "execution_count": null,
   "id": "3217346e",
   "metadata": {},
   "outputs": [],
   "source": [
    "manual_annotations_df"
   ]
  },
  {
   "cell_type": "code",
   "execution_count": null,
   "id": "10b001b5",
   "metadata": {},
   "outputs": [],
   "source": [
    "import numpy as np\n",
    "import logging\n",
    "from matplotlib import pyplot as plt\n",
    "\n",
    "def plot_slide_and_polygons(\n",
    "    anomalies: gpd.GeoSeries,\n",
    "    thumbnail: np.array,\n",
    "    figsize_factor: int = 20,\n",
    ") -> None:\n",
    "    \"\"\"\n",
    "    Plot a collection of polygons on top of a thumbnail of a Whole Slide Image.\n",
    "\n",
    "    Args:\n",
    "        anomalies (geopandas.GeoSeries): A collection of polygons (for example,\n",
    "        representing anomalous regions on the slide image).\n",
    "\n",
    "        thumbnail (np.array): A thumbnail on top of which to plot anomalies.\n",
    "\n",
    "        figsize_factor (int, optional): Factor to magnify the entire plot\n",
    "        by at the end of the plotting process (e.g., to make details easier\n",
    "        to see in certain text editors). Defaults to 1.\n",
    "\n",
    "        show_all (bool, optional): Whether to plot all polygons from anomalies.\n",
    "        If false, only polygons whose indexes are given in\n",
    "        anomalies_to_highlight are plotted. Defaults to True.\n",
    "\n",
    "        fill_in (bool, optional): Whether to plot polygons as filled-in shapes\n",
    "        (True) or as outlines (False). Defaults to True.\n",
    "\n",
    "        show_axes (bool, optional): Whether to display matplotlib axes.\n",
    "        Defaults to True.\n",
    "\n",
    "    Returns:\n",
    "        None: (Nothing is returned, but a plot is created and displayed)\n",
    "    \"\"\"\n",
    "    thumbnail_dimensions = thumbnail.size\n",
    "    \n",
    "    logging.info(\"Plotting...\")\n",
    "    thumbnail_dimension_ratio = min(thumbnail_dimensions) / max(\n",
    "        thumbnail_dimensions\n",
    "    )\n",
    "    figsize = tuple(\n",
    "        [x * figsize_factor for x in (1, thumbnail_dimension_ratio)]\n",
    "    )\n",
    "\n",
    "    _, ax = plt.subplots(1, 1, figsize=(figsize[0], figsize[1]))\n",
    "\n",
    "    anomalies.exterior.plot(ax=ax, cmap=\"gist_rainbow\")\n",
    "\n",
    "    ax.imshow(\n",
    "        thumbnail,\n",
    "        aspect=\"auto\",\n",
    "        interpolation=\"bilinear\",\n",
    "        extent=(\n",
    "            0,  # Left\n",
    "            thumbnail_dimensions[0],  # Right\n",
    "            -thumbnail_dimensions[1],  # Bottom\n",
    "            0,  # Top\n",
    "        ),\n",
    "        # origin=\"upper\",\n",
    "        alpha=0.75,\n",
    "        cmap=\"gray\",\n",
    "    )\n"
   ]
  },
  {
   "cell_type": "code",
   "execution_count": null,
   "id": "57f8154a",
   "metadata": {
    "scrolled": true
   },
   "outputs": [],
   "source": [
    "wsi.level_dimensions"
   ]
  },
  {
   "cell_type": "code",
   "execution_count": null,
   "id": "16ebc3f2",
   "metadata": {},
   "outputs": [],
   "source": [
    "thumbnail = wsi.get_thumbnail(wsi.level_dimensions[-2])"
   ]
  },
  {
   "cell_type": "code",
   "execution_count": null,
   "id": "c60104d8",
   "metadata": {},
   "outputs": [],
   "source": [
    "thumbnail"
   ]
  },
  {
   "cell_type": "code",
   "execution_count": null,
   "id": "935ed355",
   "metadata": {},
   "outputs": [],
   "source": [
    "manual_annotations_df['geometry']"
   ]
  },
  {
   "cell_type": "code",
   "execution_count": null,
   "id": "0f141c3c",
   "metadata": {},
   "outputs": [],
   "source": [
    "plot_slide_and_polygons(\n",
    "    anomalies=manual_annotations_df,\n",
    "    thumbnail=thumbnail\n",
    ")"
   ]
  }
 ],
 "metadata": {
  "kernelspec": {
   "display_name": "Python 3 (ipykernel)",
   "language": "python",
   "name": "python3"
  },
  "language_info": {
   "codemirror_mode": {
    "name": "ipython",
    "version": 3
   },
   "file_extension": ".py",
   "mimetype": "text/x-python",
   "name": "python",
   "nbconvert_exporter": "python",
   "pygments_lexer": "ipython3",
   "version": "3.7.12"
  }
 },
 "nbformat": 4,
 "nbformat_minor": 5
}
