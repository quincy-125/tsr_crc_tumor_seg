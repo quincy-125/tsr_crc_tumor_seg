{
 "cells": [
  {
   "cell_type": "markdown",
   "metadata": {},
   "source": [
    "### Run PCA-based WSI Preprocess Module"
   ]
  },
  {
   "cell_type": "markdown",
   "metadata": {},
   "source": [
    "##### This is the Jupyter Notebook to call the polygon_confusion_matrix Module, which allows the user to calculate the insersection over union (IOU), confusion matrix (i.e., True Positive, True Negative, False Positive, and False Negative), sensitivity, specificity, precision, accuracy, and F1."
   ]
  },
  {
   "cell_type": "code",
   "execution_count": null,
   "metadata": {},
   "outputs": [],
   "source": [
    "required_config = {\n",
    "    # wsi_gcs_path, str, GCS path of WSI file\n",
    "    \"wsi_gcs_path\": \"gs://\",\n",
    "    # wsi_level: int, level dimension index for WSI, default be 0\n",
    "    \"wsi_level\": -2,\n",
    "    # anomaly_polygon_geojson_gcs_path, str, path to the anomaly polygon geojson file stored in GCS bucket\n",
    "    \"anomaly_polygon_geojson_gcs_path\":  \"gs://\",\n",
    "    # annotation_polygon_geojson_gcs_path, str, path to the annotated polygon geojson file stored in GCS bucket\n",
    "    \"annotation_polygon_geojson_gcs_path\" : \"gs://\",\n",
    "    # stats_json_gcs_path, str, path to the anomaly detection inference statistics measurement json file in a GCS bucket\n",
    "    \"stats_json_gcs_path\": \"gs://\"\n",
    "}\n",
    "\n",
    "optional_config = {\n",
    "    # figsize_factor, int, factor to magnify the entire plot by at the end of the plotting process (e.g., to make details easier to see in certain text editors). Defaults to 20\n",
    "    \"figsize_factor\" : 20,\n",
    "    # polygon_thumbnail_plot_gcs_path, path to the plot of a collection of anomaly and annottaion polygons on top of a thumbnail of a WSI in GCS bucket\n",
    "    \"polygon_thumbnail_plot_gcs_path\" : \"gs://\"\n",
    "}\n",
    "\n",
    "output_config = {\n",
    "    # output_polygon_thumbnail_plot_gcs, bool, whether or not upload the plot a collection of anomaly and annotation polygons on top of a thumbnail of a WSI to GCS bucket\n",
    "    \"output_polygon_thumbnail_plot_gcs\" : True,\n",
    "    # output_inference_stats_json_gcs, bool, whether or not upload the anomaly detection inference statistics measurement json file to the GCS bucket\n",
    "    \"output_inference_stats_json_gcs\" : True\n",
    "}\n",
    "\n",
    "config = {\n",
    "    \"required\": required_config,\n",
    "    \"optional\": optional_config,\n",
    "    \"output\": output_config\n",
    "}"
   ]
  },
  {
   "cell_type": "code",
   "execution_count": null,
   "metadata": {},
   "outputs": [],
   "source": [
    "config"
   ]
  },
  {
   "cell_type": "code",
   "execution_count": null,
   "metadata": {},
   "outputs": [],
   "source": [
    "import os\n",
    "import sys\n",
    "\n",
    "module_path = os.path.abspath(os.path.join(\"..\"))\n",
    "if module_path not in sys.path:\n",
    "    sys.path.append(module_path)"
   ]
  },
  {
   "cell_type": "code",
   "execution_count": null,
   "metadata": {},
   "outputs": [],
   "source": [
    "import json\n",
    "\n",
    "with open(os.path.join(module_path, \"polygon_confusion_matrix_config.json\"), \"w\") as f:\n",
    "    json.dump(config, f)"
   ]
  },
  {
   "cell_type": "code",
   "execution_count": null,
   "metadata": {},
   "outputs": [],
   "source": [
    "from proganomaly_modules.polygon_confusion_matrix_module.confusion_matrix import polygon_confusion_matrix_main"
   ]
  },
  {
   "cell_type": "code",
   "execution_count": null,
   "metadata": {},
   "outputs": [],
   "source": [
    "polygon_confusion_matrix_main()"
   ]
  }
 ],
 "metadata": {
  "interpreter": {
   "hash": "d4d1e4263499bec80672ea0156c357c1ee493ec2b1c70f0acce89fc37c4a6abe"
  },
  "kernelspec": {
   "display_name": "Python 3.7.12 ('base')",
   "language": "python",
   "name": "python3"
  },
  "language_info": {
   "codemirror_mode": {
    "name": "ipython",
    "version": 3
   },
   "file_extension": ".py",
   "mimetype": "text/x-python",
   "name": "python",
   "nbconvert_exporter": "python",
   "pygments_lexer": "ipython3",
   "version": "3.7.12"
  },
  "orig_nbformat": 4
 },
 "nbformat": 4,
 "nbformat_minor": 2
}
