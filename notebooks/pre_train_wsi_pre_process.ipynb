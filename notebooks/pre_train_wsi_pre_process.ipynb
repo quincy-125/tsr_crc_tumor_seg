{
 "cells": [
  {
   "cell_type": "markdown",
   "metadata": {},
   "source": [
    "### Run PCA-based WSI Preprocess Module"
   ]
  },
  {
   "cell_type": "markdown",
   "metadata": {},
   "source": [
    "##### This is the Jupyter Notebook to call the Pre_train_wsi_preprocess Module, which allows the user to extract patches with tissue only regions from the Whole Slide Image, and use the Principal Component Analysis to reduce the data redundancy and create the TFRecords Files."
   ]
  },
  {
   "cell_type": "code",
   "execution_count": null,
   "metadata": {},
   "outputs": [],
   "source": [
    "required_config = {\n",
    "    # bucket_name, str, the ID of user's GCS bucket\n",
    "    \"bucket_name\": \"\",\n",
    "    # wsi_gcs_path, str, GCS path of WSI file\n",
    "    \"wsi_gcs_path\" : \"gs://\",\n",
    "    # target_image_width, int, the approximate width of resultant thumbnail image\n",
    "    \"target_image_width\" : 500,\n",
    "    # threshold_area_percent, float, threshold with the percentage of tissue area included within a single patch, which used to determine whether a patch will be extracted from WSI\n",
    "    \"threshold_area_percent\" : 0.5,\n",
    "    # patch_level, int, initial image level of each image patches, default be 0 indicates patch resolution size be (1024,1024)\n",
    "    \"patch_level\" : 0,\n",
    "    # image_patch_depth, int, the depth of each image patches, represent the number of channels of each image patches, default be 3, which represents 3 RGB-channel image patches\n",
    "    \"image_patch_depth\" : 3,\n",
    "    # min_patch_size, int, the smallest patch size required for progressive GAN training purpose, default be 4\n",
    "    \"min_patch_size\" : 4,\n",
    "    # max_patch_size: int, original patch size extracted from WSI, default be 1024\n",
    "    \"max_patch_size\" : 1024,\n",
    "    # include_top, bool, whether to include the fully-connected layer at the top of the network, default be False\n",
    "    \"include_top\" : False,\n",
    "    # weights, str, weights of the restnet50 model pre-trained on one of the following three general options, which are None (random initialization), 'imagenet' (pre-training on ImageNet), or the path to the weights file to be loaded\n",
    "    \"weights\" : \"imagenet\",\n",
    "    # input_shape, tuple, optional shape tuple, only to be specified if include_top is False (otherwise the input shape has to be (224, 224, 3) (with 'channels_last' data format) or (3, 224, 224) (with 'channels_first' data format). It should have exactly 3 inputs channels, and width and height should be no smaller than 32. E.g. (200, 200, 3) would be one valid value. In our case, default be (1024, 1024, 3)\n",
    "    \"input_shape\" : (1024, 1024, 3),\n",
    "    # is_trainable, bool, whether to re-train the restnet50 model, default be False\n",
    "    \"is_trainable\" : False,\n",
    "    # layer_name, str, user defined layer to customize the restnet50 model, which used to return the output feature vectors from the user defined layer. In our case, default be 'conv4_block1_0_conv', which used to create a customized resnet50 model based on original resnet50 model ended after the 3rd residual block\n",
    "    \"layer_name\" : \"conv4_block1_0_conv\",\n",
    "    # n_components, int, number of components to keep. If n_components is not set all components are kept. Default value be None\n",
    "    \"n_components\" : 10,\n",
    "    # pca_filter_percent, float, the percentage of the total number of patches used to determine the number of patches will be selected from PCA for the anomaly detection model training purpose. Default value be 0.8\n",
    "    \"pca_filter_percent\" : 1.0,\n",
    "    # pca_filter_base_component, int, the index of the principal component ndarray from PCA used to select image patches for the anomaly detection model training purpose. Default value be 0, which indicates the 1st principal component\n",
    "    \"pca_filter_base_component\" : 0,\n",
    "    # is_filtered_patches, bool, whether to save the selected patches filtered by the principal component analysis (PCA), or all patches with tissue only regions extracted from WSI to a local file path. Default be True, which intends to save PCA filtered patches\n",
    "    \"is_filtered_patches\" : False,\n",
    "    # tfrecord_gcs_path, str, path to where the tfrecord files will be stored in GCS bucket\n",
    "    \"tfrecord_gcs_path\" : \"gs://\"\n",
    "}\n",
    "\n",
    "optional_config = {\n",
    "    # all_patch_gcs_path: str, all patches with tissue only regions extracted from WSI stored in a GCS bucket\n",
    "    \"all_patch_gcs_path\" : \"gs://\",\n",
    "    # pca_patch_gcs_path: str, selected patches filtered by the principal component analysis (PCA) stored in a GCS bucket\n",
    "    \"pca_patch_gcs_path\" : \"gs://\",\n",
    "    # x_pca_index, int, index to determine which principla component related ndarray features will be used to plot on the x-axis\n",
    "    \"x_pca_index\" : 0,\n",
    "    # y_pca_index, int, index to determine which principla component related ndarray features will be used to plot on the y-axis\n",
    "    \"y_pca_index\" : 1,\n",
    "    # z_pca_index, int, index to determine which principla component related ndarray features will be used to plot on the z-axis\n",
    "    \"z_pca_index\" : 2,\n",
    "    # pca_plot_gcs_path, str, path to where the plots (listed in the description of the function) will be stored in GCS bucket\n",
    "    \"pca_plot_gcs_path\" : \"gs://\"\n",
    "}\n",
    "\n",
    "output_config = {\n",
    "    # output_tfrecords_gcs, bool, whether or not save tfrecords in a GCS bucket\n",
    "    \"output_tfrecords_gcs\" : True,\n",
    "    # output_all_patches_gcs, bool, whether or not save all patches with tissue only regions extracted from the WSI in a GCS bucket\n",
    "    \"output_all_patches_gcs\" : False,\n",
    "    # output_pca_selected_patches_gcs, bool, whether or not save selected patches filtered by the principal component analysis (PCA) in a GCS bucket\n",
    "    \"output_pca_selected_patches_gcs\" : False,\n",
    "    # output_selected_pca_results_plots_gcs, bool, whether or not save PCA analysis results plots in a GCS bucket\n",
    "    \"output_selected_pca_results_plots_gcs\" : False\n",
    "}\n",
    "\n",
    "config = {\n",
    "    \"required\": required_config,\n",
    "    \"optional\": optional_config,\n",
    "    \"output\": output_config\n",
    "}"
   ]
  },
  {
   "cell_type": "code",
   "execution_count": null,
   "metadata": {},
   "outputs": [],
   "source": [
    "config"
   ]
  },
  {
   "cell_type": "code",
   "execution_count": null,
   "metadata": {},
   "outputs": [],
   "source": [
    "import os\n",
    "import sys\n",
    "\n",
    "module_path = os.path.abspath(os.path.join(\"..\"))\n",
    "if module_path not in sys.path:\n",
    "    sys.path.append(module_path)"
   ]
  },
  {
   "cell_type": "code",
   "execution_count": null,
   "metadata": {},
   "outputs": [],
   "source": [
    "import json\n",
    "\n",
    "with open(os.path.join(module_path, \"wsi_preprocess_config.json\"), \"w\") as f:\n",
    "    json.dump(config, f)"
   ]
  },
  {
   "cell_type": "code",
   "execution_count": null,
   "metadata": {},
   "outputs": [],
   "source": [
    "from proganomaly_modules.pre_train_wsi_preprocess_module.pre_process import wsi_preprocess_main"
   ]
  },
  {
   "cell_type": "code",
   "execution_count": null,
   "metadata": {},
   "outputs": [],
   "source": [
    "wsi_preprocess_main()"
   ]
  }
 ],
 "metadata": {
  "interpreter": {
   "hash": "d4d1e4263499bec80672ea0156c357c1ee493ec2b1c70f0acce89fc37c4a6abe"
  },
  "kernelspec": {
   "display_name": "Python 3.7.10 ('base')",
   "language": "python",
   "name": "python3"
  },
  "language_info": {
   "codemirror_mode": {
    "name": "ipython",
    "version": 3
   },
   "file_extension": ".py",
   "mimetype": "text/x-python",
   "name": "python",
   "nbconvert_exporter": "python",
   "pygments_lexer": "ipython3",
   "version": "3.7.12"
  },
  "orig_nbformat": 4
 },
 "nbformat": 4,
 "nbformat_minor": 2
}
